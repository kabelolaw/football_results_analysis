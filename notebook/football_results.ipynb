{
 "cells": [
  {
   "cell_type": "code",
   "execution_count": null,
   "metadata": {
    "collapsed": true,
    "is_executing": true
   },
   "outputs": [],
   "source": [
    "import numpy as np\n",
    "import pandas as pd\n",
    "import matplotlib.pyplot as plt\n",
    "import seaborn as sns\n",
    "import plotly.express as px\n",
    "import plotly.graph_objects as go\n",
    "import missingno as msno\n",
    "\n",
    "df = pd.read_csv(\"..\\\\datasets\\\\results.csv\")\n",
    "df.shape"
   ]
  },
  {
   "cell_type": "markdown",
   "source": [
    "DATA EXPLORATION SECTION\n",
    "1. Feature Exploration"
   ],
   "metadata": {
    "collapsed": false
   }
  },
  {
   "cell_type": "code",
   "execution_count": null,
   "outputs": [],
   "source": [
    "df.head()"
   ],
   "metadata": {
    "collapsed": false
   }
  },
  {
   "cell_type": "code",
   "execution_count": null,
   "outputs": [],
   "source": [
    "df.dtypes"
   ],
   "metadata": {
    "collapsed": false
   }
  },
  {
   "cell_type": "code",
   "execution_count": null,
   "outputs": [],
   "source": [
    "df.shape"
   ],
   "metadata": {
    "collapsed": false
   }
  },
  {
   "cell_type": "code",
   "execution_count": null,
   "outputs": [],
   "source": [
    "df.columns"
   ],
   "metadata": {
    "collapsed": false
   }
  },
  {
   "cell_type": "code",
   "execution_count": null,
   "outputs": [],
   "source": [
    "df.info()"
   ],
   "metadata": {
    "collapsed": false
   }
  },
  {
   "cell_type": "markdown",
   "source": [
    "b) Summary statistics"
   ],
   "metadata": {
    "collapsed": false
   }
  },
  {
   "cell_type": "code",
   "execution_count": null,
   "outputs": [],
   "source": [
    "categorical = df.select_dtypes(include='object')\n",
    "categorical.describe()"
   ],
   "metadata": {
    "collapsed": false
   }
  },
  {
   "cell_type": "code",
   "execution_count": null,
   "outputs": [],
   "source": [
    "numerical = df.select_dtypes(include='number')\n",
    "numerical.describe()"
   ],
   "metadata": {
    "collapsed": false
   }
  },
  {
   "cell_type": "markdown",
   "source": [
    "2. Data Cleaning"
   ],
   "metadata": {
    "collapsed": false
   }
  },
  {
   "cell_type": "markdown",
   "source": [
    "a) Null Zero Analysis"
   ],
   "metadata": {
    "collapsed": false
   }
  },
  {
   "cell_type": "code",
   "execution_count": null,
   "outputs": [],
   "source": [
    "df.isnull().sum()"
   ],
   "metadata": {
    "collapsed": false
   }
  },
  {
   "cell_type": "markdown",
   "source": [
    "b) Checking for duplicates"
   ],
   "metadata": {
    "collapsed": false
   }
  },
  {
   "cell_type": "code",
   "execution_count": null,
   "outputs": [],
   "source": [
    "duplicated_rows = df[df.duplicated()]\n",
    "duplicated_rows.shape[0]"
   ],
   "metadata": {
    "collapsed": false
   }
  },
  {
   "cell_type": "markdown",
   "source": [
    "c) Conversion to preferred datatypes"
   ],
   "metadata": {
    "collapsed": false
   }
  },
  {
   "cell_type": "code",
   "execution_count": null,
   "outputs": [],
   "source": [
    "df['date'] = pd.to_datetime(df.date)\n",
    "df['year'] = df['date'].dt.year\n",
    "df['month'] = df['date'].dt.month\n",
    "df['month_name'] = df['date'].dt.month_name()\n",
    "df['day'] = df['date'].dt.day\n",
    "df['day_name'] = df['date'].dt.day_name()\n",
    "df.head(3)"
   ],
   "metadata": {
    "collapsed": false
   }
  },
  {
   "cell_type": "markdown",
   "source": [
    "d) Outlier detection"
   ],
   "metadata": {
    "collapsed": false
   }
  },
  {
   "cell_type": "code",
   "execution_count": null,
   "outputs": [],
   "source": [
    "outlier = df[df.home_team == df.away_team]\n",
    "outlier.shape # None so we continue"
   ],
   "metadata": {
    "collapsed": false
   }
  },
  {
   "cell_type": "markdown",
   "source": [
    "3. Exploratory Data Analysis(EDA)"
   ],
   "metadata": {
    "collapsed": false
   }
  },
  {
   "cell_type": "code",
   "execution_count": null,
   "outputs": [],
   "source": [
    "def plot_categorical_frequency(\n",
    "        data, n, x_label, y_label, title, x_rotation=None, y_rotation=None, horizontal=None, vertical=None):\n",
    "    frequency_count = data.value_counts().head(n)\n",
    "    plt.figure(figsize=(10, 6))\n",
    "    plt.xlabel(x_label)\n",
    "    plt.ylabel(y_label)\n",
    "    plt.title(title)\n",
    "\n",
    "    if x_rotation:\n",
    "        plt.xticks(rotation=x_rotation)\n",
    "    if y_rotation:\n",
    "        plt.yticks(rotation=y_rotation)\n",
    "    if horizontal:\n",
    "        plt.barh(frequency_count.values, frequency_count.index)\n",
    "    if vertical:\n",
    "        plt.bar(frequency_count.index, frequency_count.values)\n",
    "    plt.show()\n",
    "\n",
    "plot_categorical_frequency(df.day_name, 6, 'Category', 'Frequency', 'Category-Frequency Bar Graph', vertical=True)\n",
    "# As show on the graph most games are played on Sunday, followed by Wednesday"
   ],
   "metadata": {
    "collapsed": false
   }
  },
  {
   "cell_type": "code",
   "execution_count": null,
   "outputs": [],
   "source": [
    "plot_categorical_frequency(df.tournament, 5, 'Category', 'Frequency', 'Category-Frequency Bar Graph', vertical=True, x_rotation=15)\n",
    "# As shown on the graph the tournament which had most games are friendlies followed by FIFA World Cup qualification\n",
    "# as well as Euro qualifications"
   ],
   "metadata": {
    "collapsed": false
   }
  },
  {
   "cell_type": "code",
   "execution_count": null,
   "outputs": [],
   "source": [
    "plot_categorical_frequency( df.month_name, 12, 'Category', 'Frequency', 'Category-Frequency Bar Graph', vertical=True, x_rotation=15)\n",
    "# June had the most matches throughout followed by October and November"
   ],
   "metadata": {
    "collapsed": false
   }
  },
  {
   "cell_type": "markdown",
   "source": [
    "FIFA WORLD CUP"
   ],
   "metadata": {
    "collapsed": false
   }
  },
  {
   "cell_type": "code",
   "execution_count": null,
   "outputs": [],
   "source": [
    "wc_tournament = df[df.tournament == 'FIFA World Cup'][['home_team', 'away_team']]\n",
    "wc_tournament.shape[0]\n",
    "# 964 WC games have been played"
   ],
   "metadata": {
    "collapsed": false
   }
  },
  {
   "cell_type": "code",
   "execution_count": null,
   "outputs": [],
   "source": [
    "wc_teams = pd.concat([wc_tournament.home_team, wc_tournament.away_team])\n",
    "wc_count = wc_teams.value_counts()\n",
    "len(wc_count.index)\n",
    "# There have been 18 countries which hosted the wc"
   ],
   "metadata": {
    "collapsed": false
   }
  },
  {
   "cell_type": "code",
   "execution_count": null,
   "outputs": [],
   "source": [
    "# Relationship between location of game with win-rate in friendlies\n",
    "# To check if a team playing friendlies at home is more likely to win\n",
    "friendly = df[df.tournament == 'Friendly']\n",
    "friendly['winner'] = np.select(\n",
    "    [(friendly.home_score > friendly.away_score), (friendly.home_score < friendly.away_score)], ['Home Team',\n",
    "                                                                                                 'Away Team'],\n",
    "    default=0)\n",
    "friendly['winner']"
   ],
   "metadata": {
    "collapsed": false
   }
  },
  {
   "cell_type": "code",
   "execution_count": null,
   "outputs": [],
   "source": [
    "friendly_counts = friendly['winner'].value_counts()\n",
    "proportions = friendly_counts / friendly_counts.sum()\n",
    "plt.figure(figsize=(10, 6))\n",
    "plt.pie(proportions, labels=proportions.index, autopct='%1.1f%%', startangle=90)\n",
    "plt.axis('equal')\n",
    "plt.title('Win rate vs Location')\n",
    "plt.show()\n",
    "# As shown on the pie chart, a team playing friendlies at home is more likely to win by 47.2% while away is 27.8%\n",
    "# and draw by 25%"
   ],
   "metadata": {
    "collapsed": false
   }
  },
  {
   "cell_type": "code",
   "execution_count": null,
   "outputs": [],
   "source": [
    "# Heatmap\n",
    "duration = df[df['year'] >= 2010].groupby(['year', 'month_name']).size().unstack().fillna(0)\n",
    "print(duration)\n",
    "plt.figure(figsize=(10, 5))\n",
    "sns.heatmap(duration, cmap='Blues', annot=True, fmt='.1f')\n",
    "plt.show()"
   ],
   "metadata": {
    "collapsed": false
   }
  }
 ],
 "metadata": {
  "kernelspec": {
   "display_name": "Python 3",
   "language": "python",
   "name": "python3"
  },
  "language_info": {
   "codemirror_mode": {
    "name": "ipython",
    "version": 2
   },
   "file_extension": ".py",
   "mimetype": "text/x-python",
   "name": "python",
   "nbconvert_exporter": "python",
   "pygments_lexer": "ipython2",
   "version": "2.7.6"
  }
 },
 "nbformat": 4,
 "nbformat_minor": 0
}
